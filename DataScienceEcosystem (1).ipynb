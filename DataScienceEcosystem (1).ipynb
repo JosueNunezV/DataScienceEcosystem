{
 "cells": [
  {
   "cell_type": "code",
   "execution_count": null,
   "id": "4723199e-1e53-41d4-935b-3f93f5a466d6",
   "metadata": {},
   "outputs": [],
   "source": []
  },
  {
   "cell_type": "markdown",
   "id": "54bdbf8f-1a69-4621-b042-1a825ea25d8d",
   "metadata": {},
   "source": [
    "# Data Science Tools and Ecosystem"
   ]
  },
  {
   "cell_type": "markdown",
   "id": "c36d1a90-4808-4c97-967f-833dafd4307e",
   "metadata": {},
   "source": [
    "**Objetivos:**\n",
    "\n",
    "- Listar lenguajes populares para Ciencia de Datos.\n",
    "- Identificar bibliotecas comúnmente utilizadas en Ciencia de Datos.\n",
    "- Explorar herramientas de desarrollo utilizadas en Ciencia de Datos.\n",
    "- Evaluar expresiones aritméticas en Python.\n",
    "- Convertir unidades de tiempo utilizando Python."
   ]
  },
  {
   "cell_type": "markdown",
   "id": "6b7ff9b7-d64b-4a09-ada4-aad42d1d30fd",
   "metadata": {},
   "source": [
    "En este cuaderno, se resumen las herramientas y ecosistemas de ciencia de datos."
   ]
  },
  {
   "cell_type": "markdown",
   "id": "0b720ad6-6ec4-427b-b271-8bb9a2add604",
   "metadata": {},
   "source": [
    "Algunos de los lenguajes populares que utilizan los científicos de datos son:\n",
    "\n",
    "1. Python\n",
    "2. R\n",
    "3. SQL\n",
    "4. Julia\n",
    "5. Scala"
   ]
  },
  {
   "cell_type": "markdown",
   "id": "9d4c79c4-dbd2-4ddc-8e24-26a0d099d9da",
   "metadata": {},
   "source": [
    "Algunas de las bibliotecas comúnmente utilizadas por los científicos de datos incluyen:\n",
    "\n",
    "1. NumPy\n",
    "2. Pandas\n",
    "3. Matplotlib\n",
    "4. Scikit-learn\n",
    "5. TensorFlow"
   ]
  },
  {
   "cell_type": "markdown",
   "id": "6b0ae4bd-b505-42f0-9af8-1a34b5c040db",
   "metadata": {},
   "source": [
    "| Herramientas de Ciencia de Datos |\n",
    "|----------------------------------|\n",
    "| Jupyter Notebook                 |\n",
    "| RStudio                          |\n",
    "| Apache Zeppelin                   |"
   ]
  },
  {
   "cell_type": "markdown",
   "id": "552158a0-a2bd-4cf4-aef6-ec2705cb7562",
   "metadata": {},
   "source": [
    "### A continuación, se presentan algunos ejemplos de evaluación de expresiones aritméticas en Python."
   ]
  },
  {
   "cell_type": "code",
   "execution_count": 1,
   "id": "51391aa7-4a8f-49f0-8c6d-db26429e54b4",
   "metadata": {},
   "outputs": [
    {
     "name": "stdout",
     "output_type": "stream",
     "text": [
      "17\n"
     ]
    }
   ],
   "source": [
    "# Esta es una expresión aritmética simple para multiplicar y luego sumar enteros.\n",
    "resultado = (3 * 4) + 5\n",
    "print(resultado)"
   ]
  },
  {
   "cell_type": "code",
   "execution_count": 2,
   "id": "27b31c19-7658-463c-a36c-8ea78984ef34",
   "metadata": {},
   "outputs": [
    {
     "name": "stdout",
     "output_type": "stream",
     "text": [
      "3.3333333333333335\n"
     ]
    }
   ],
   "source": [
    "# Esto convertirá 200 minutos a horas dividiendo por 60.\n",
    "horas = 200 / 60\n",
    "print(horas)"
   ]
  },
  {
   "cell_type": "markdown",
   "id": "4bf48d5b-a8b6-4ee5-a288-a6462a2c9fb3",
   "metadata": {},
   "source": [
    "## Autor\n",
    "\n",
    "[Josue Daniel Nuñez Valdivieso]"
   ]
  },
  {
   "cell_type": "code",
   "execution_count": null,
   "id": "11c0fe70-7591-4acb-a6d6-10a8d5a7eb3c",
   "metadata": {},
   "outputs": [],
   "source": []
  }
 ],
 "metadata": {
  "kernelspec": {
   "display_name": "Python 3 (ipykernel)",
   "language": "python",
   "name": "python3"
  },
  "language_info": {
   "codemirror_mode": {
    "name": "ipython",
    "version": 3
   },
   "file_extension": ".py",
   "mimetype": "text/x-python",
   "name": "python",
   "nbconvert_exporter": "python",
   "pygments_lexer": "ipython3",
   "version": "3.12.8"
  }
 },
 "nbformat": 4,
 "nbformat_minor": 5
}
